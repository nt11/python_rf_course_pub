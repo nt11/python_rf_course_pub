{
 "cells": [
  {
   "cell_type": "code",
   "id": "initial_id",
   "metadata": {
    "collapsed": true,
    "ExecuteTime": {
     "end_time": "2024-10-06T15:24:31.207870Z",
     "start_time": "2024-10-06T15:24:31.202650Z"
    }
   },
   "source": [
    "print(\"Results\")\n",
    "print(\"-------\")\n",
    "print(\"Hello World\")\n",
    "a = 1\n",
    "print(a)\n",
    "b = \"Hello\"\n",
    "print(b)"
   ],
   "outputs": [
    {
     "name": "stdout",
     "output_type": "stream",
     "text": [
      "Results\n",
      "-------\n",
      "Hello World\n",
      "1\n",
      "Hello\n"
     ]
    }
   ],
   "execution_count": 27
  },
  {
   "metadata": {
    "ExecuteTime": {
     "end_time": "2024-10-06T15:25:54.878161Z",
     "start_time": "2024-10-06T15:25:54.869921Z"
    }
   },
   "cell_type": "code",
   "source": [
    "print(\"Results\")\n",
    "print(\"-------\")\n",
    "age = 18\n",
    "if age >= 18:\n",
    "    print(\"You are eligible to vote.\")\n",
    "else:\n",
    "    print(\"You are not eligible to vote yet.\")\n",
    "    "
   ],
   "id": "75817b46680cb2a5",
   "outputs": [
    {
     "name": "stdout",
     "output_type": "stream",
     "text": [
      "Results\n",
      "-------\n",
      "You are eligible to vote.\n"
     ]
    }
   ],
   "execution_count": 29
  },
  {
   "metadata": {
    "ExecuteTime": {
     "end_time": "2024-10-06T15:49:42.405263Z",
     "start_time": "2024-10-06T15:49:42.401368Z"
    }
   },
   "cell_type": "code",
   "source": [
    "acc = 0\n",
    "facto = 1\n",
    "for i in range(1,5):\n",
    "    acc+= i\n",
    "    facto= i * facto\n",
    "print(acc, facto)"
   ],
   "id": "149ddcb25ab7b099",
   "outputs": [
    {
     "name": "stdout",
     "output_type": "stream",
     "text": [
      "10 24\n"
     ]
    }
   ],
   "execution_count": 33
  },
  {
   "metadata": {
    "ExecuteTime": {
     "end_time": "2024-10-06T15:29:22.107810Z",
     "start_time": "2024-10-06T15:29:22.102815Z"
    }
   },
   "cell_type": "code",
   "source": [
    "print(\"Results\")\n",
    "print(\"-------\")\n",
    "score = 75\n",
    "\n",
    "if score >= 90:\n",
    "    print(\"You got an A.\")\n",
    "elif score >= 80:\n",
    "    print(\"You got a B.\")\n",
    "elif score >= 70:\n",
    "    print(\"You got a C.\")\n",
    "elif score >= 60:\n",
    "    print(\"You got a D.\")\n",
    "else:\n",
    "    print(\"You got an F.\")"
   ],
   "id": "eba959f7b12680db",
   "outputs": [
    {
     "name": "stdout",
     "output_type": "stream",
     "text": [
      "Results\n",
      "-------\n",
      "You got a C.\n"
     ]
    }
   ],
   "execution_count": 30
  },
  {
   "metadata": {
    "ExecuteTime": {
     "end_time": "2024-10-06T15:36:05.478208Z",
     "start_time": "2024-10-06T15:36:05.472031Z"
    }
   },
   "cell_type": "code",
   "source": [
    "print(\"Results\")\n",
    "print(\"-------\")\n",
    "age = 25\n",
    "height = 170  # in cm\n",
    "weight = 70   # in kg\n",
    "\n",
    "if age >= 18 and age <= 65:\n",
    "    print(\"You are of working age.\")\n",
    "\n",
    "if height > 150 and height < 190:\n",
    "    print(\"Your height is average.\")\n",
    "\n",
    "if weight >= 50 and weight <= 100:\n",
    "    print(\"Your weight is within a common range.\")\n",
    "\n",
    "if (age < 18) or (age > 65):\n",
    "    print(\"You are not of typical working age.\")\n",
    "\n",
    "if not (height <= 160):\n",
    "    print(\"You are taller than 160 cm.\")\n",
    "\n",
    "if (age > 20 and height >= 180) or (weight > 90):\n",
    "    print(\"You might be above average in age, height, or weight.\")"
   ],
   "id": "ff5501bc3ab112ae",
   "outputs": [
    {
     "name": "stdout",
     "output_type": "stream",
     "text": [
      "Results\n",
      "-------\n",
      "You are of working age.\n",
      "Your height is average.\n",
      "Your weight is within a common range.\n",
      "You are taller than 160 cm.\n"
     ]
    }
   ],
   "execution_count": 31
  },
  {
   "metadata": {
    "ExecuteTime": {
     "end_time": "2024-10-06T15:52:07.356878Z",
     "start_time": "2024-10-06T15:52:07.351119Z"
    }
   },
   "cell_type": "code",
   "source": [
    "print(\"Results\")\n",
    "print(\"-------\")\n",
    "# Basic usage: range(stop)\n",
    "print(\"Counting from 0 to 4:\")\n",
    "for i in range(5):\n",
    "    print(i, end=\" \")\n",
    "print()  # New line\n",
    "\n",
    "# Specifying start and stop: range(start, stop)\n",
    "print(\"\\nCounting from 2 to 6:\")\n",
    "for i in range(2, 7):\n",
    "    print(i, end=\" \")\n",
    "print()\n",
    "\n",
    "# Using step: range(start, stop, step)\n",
    "print(\"\\nCounting odd numbers from 1 to 10:\")\n",
    "for i in range(1, 11, 2):\n",
    "    print(i, end=\" \")\n",
    "print()\n",
    "\n",
    "# Counting backwards\n",
    "print(\"\\nCounting down from 5 to 1:\")\n",
    "for i in range(5, 0, -1):\n",
    "    print(i, end=\" \")\n",
    "print()"
   ],
   "id": "ac0484e0688cb165",
   "outputs": [
    {
     "name": "stdout",
     "output_type": "stream",
     "text": [
      "Results\n",
      "-------\n",
      "Counting from 0 to 4:\n",
      "0 1 2 3 4 \n",
      "\n",
      "Counting from 2 to 6:\n",
      "2 3 4 5 6 \n",
      "\n",
      "Counting odd numbers from 1 to 10:\n",
      "1 3 5 7 9 \n",
      "\n",
      "Counting down from 5 to 1:\n",
      "5 4 3 2 1 \n"
     ]
    }
   ],
   "execution_count": 37
  },
  {
   "metadata": {
    "ExecuteTime": {
     "end_time": "2024-10-06T16:12:46.237664Z",
     "start_time": "2024-10-06T16:12:46.234297Z"
    }
   },
   "cell_type": "code",
   "source": [
    "print(\"Results\")\n",
    "print(\"-------\")\n",
    "# Initialize a counter\n",
    "count = 0\n",
    "\n",
    "# Set up a while loop that runs as long as count is less than 5\n",
    "while count < 5:\n",
    "    print(\"Count is currently\", count, \". It is less than 5.\")\n",
    "    count += 1  # Increment the counter\n",
    "\n",
    "print(\"Loop has finished.\")"
   ],
   "id": "45be8fed9f062bfd",
   "outputs": [
    {
     "name": "stdout",
     "output_type": "stream",
     "text": [
      "Results\n",
      "-------\n",
      "Count is currently 0 . It is less than 5.\n",
      "Count is currently 1 . It is less than 5.\n",
      "Count is currently 2 . It is less than 5.\n",
      "Count is currently 3 . It is less than 5.\n",
      "Count is currently 4 . It is less than 5.\n",
      "Loop has finished.\n"
     ]
    }
   ],
   "execution_count": 41
  },
  {
   "metadata": {
    "ExecuteTime": {
     "end_time": "2024-10-06T16:21:58.218765Z",
     "start_time": "2024-10-06T16:21:58.213927Z"
    }
   },
   "cell_type": "code",
   "source": [
    "print(\"Results\")\n",
    "print(\"-------\")\n",
    "x = 10\n",
    "\n",
    "if x > 5:\n",
    "    print(\"x is greater than 5\")\n",
    "    if x < 8:\n",
    "        print(\"x is also less than 15\")\n",
    "    print(\"x is still greater than 5\")\n",
    "print(\"This line runs regardless of the value of x\")\n",
    "\n",
    "if x == 10:\n",
    "    print(\"x is equal to 10\")\n",
    "print(\"This line is not part of the if block\")"
   ],
   "id": "e162b4929a5bc4fd",
   "outputs": [
    {
     "name": "stdout",
     "output_type": "stream",
     "text": [
      "Results\n",
      "-------\n",
      "x is greater than 5\n",
      "x is still greater than 5\n",
      "This line runs regardless of the value of x\n",
      "x is equal to 10\n",
      "This line is not part of the if block\n"
     ]
    }
   ],
   "execution_count": 44
  },
  {
   "metadata": {
    "ExecuteTime": {
     "end_time": "2024-10-06T20:39:27.720405Z",
     "start_time": "2024-10-06T20:39:27.714070Z"
    }
   },
   "cell_type": "code",
   "source": [
    "print(\"Results\")\n",
    "print(\"-------\")\n",
    "# int(): Convert a string or float to an integer\n",
    "print(\"int():\")\n",
    "print(int(\"123\"))  # String to int\n",
    "print(int(45.67))  # Float to int\n",
    "print(int(\"-789\"))  # Negative string to int\n",
    "print()\n",
    "\n",
    "# abs(): Return the absolute value of a number\n",
    "print(\"abs():\")\n",
    "print(abs(-10))\n",
    "print(abs(10))\n",
    "print()\n",
    "\n",
    "# divmod(): Return quotient and remainder of division\n",
    "print(\"divmod():\")\n",
    "print(divmod(20, 3))  # (quotient, remainder)\n",
    "print(divmod(-20,3)) # Note the behavior with negative numbers\n",
    "print()\n",
    "\n",
    "# pow(): Raise a number to a power\n",
    "print(\"pow():\")\n",
    "print(pow(2, 3))  # 2^3\n",
    "print(pow(2, 3, 5))  # (2^3) % 5 (with modulus)\n",
    "print()\n",
    "\n",
    "# //: Integer division (floor division)\n",
    "print(\"// (Integer division):\")\n",
    "print(20 // 3)\n",
    "print(-20 // 3)  # Note the behavior with negative numbers\n",
    "print()\n",
    "\n",
    "# %: Modulo (remainder of division)\n",
    "print(\"% (Modulo):\")\n",
    "print(20 % 3)\n",
    "print(-20 % 3)  # Note the behavior with negative numbers\n",
    "print() \n",
    "\n",
    "# Normal Division\n",
    "\n",
    "print(\"/ Normal Division\")\n",
    "prprint(20/3)"
   ],
   "id": "f4b424c23933187f",
   "outputs": [
    {
     "name": "stdout",
     "output_type": "stream",
     "text": [
      "Results\n",
      "-------\n",
      "int():\n",
      "123\n",
      "45\n",
      "-789\n",
      "\n",
      "abs():\n",
      "10\n",
      "10\n",
      "\n",
      "divmod():\n",
      "(6, 2)\n",
      "(-7, 1)\n",
      "\n",
      "pow():\n",
      "8\n",
      "3\n",
      "\n",
      "// (Integer division):\n",
      "6\n",
      "-7\n",
      "\n",
      "% (Modulo):\n",
      "2\n",
      "1\n",
      "\n",
      "/ Normal Division\n",
      "6.666666666666667\n"
     ]
    }
   ],
   "execution_count": 50
  },
  {
   "metadata": {
    "ExecuteTime": {
     "end_time": "2024-10-07T08:45:34.286559Z",
     "start_time": "2024-10-07T08:45:34.256363Z"
    }
   },
   "cell_type": "code",
   "source": [
    "print(\"Results\")\n",
    "print(\"-------\")\n",
    "x = 5.0\n",
    "y = 5.5\n",
    "print(x.is_integer())  \n",
    "print(y.is_integer())  \n",
    "\n",
    "z = 3.25\n",
    "print(z.as_integer_ratio())  \n",
    "\n",
    "x = 3.14159\n",
    "print(round(x, 2))  \n",
    "\n",
    "y = -4.5\n",
    "print(abs(y))  \n",
    "\n",
    "import math\n",
    "z = 5.1\n",
    "print(math.ceil(z)) \n",
    "z = -6.1\n",
    "print(math.ceil(z))  \n",
    "\n",
    "import math\n",
    "a = 5.9\n",
    "print(math.floor(a))  \n",
    "a = -17.3\n",
    "print(math.floor(a))\n",
    "\n",
    "import math\n",
    "b = 3.7\n",
    "print(math.trunc(b))  \n",
    "b = -4.3\n",
    "print(math.trunc(b))  #\n"
   ],
   "id": "af2f42f8cee578d8",
   "outputs": [
    {
     "name": "stdout",
     "output_type": "stream",
     "text": [
      "Results\n",
      "-------\n",
      "True\n",
      "False\n",
      "(13, 4)\n",
      "3.14\n",
      "4.5\n",
      "6\n",
      "-6\n",
      "5\n",
      "-18\n",
      "3\n",
      "-4\n"
     ]
    }
   ],
   "execution_count": 52
  },
  {
   "metadata": {
    "ExecuteTime": {
     "end_time": "2024-10-07T09:09:04.039078Z",
     "start_time": "2024-10-07T09:09:04.025043Z"
    }
   },
   "cell_type": "code",
   "source": [
    "print(\"Results\")\n",
    "print(\"-------\")\n",
    "# upper() - Converts string to uppercase\n",
    "text = \"Hello, World!\"\n",
    "print(text.upper())\n",
    "\n",
    "# lower() - Converts string to lowercase\n",
    "text = \"Hello, World!\"\n",
    "print(text.lower())\n",
    "\n",
    "# strip() - Removes leading and trailing whitespace\n",
    "text = \"   Python   \"\n",
    "print(text.strip())\n",
    "\n",
    "# split() - Splits string into a list\n",
    "text = \"apple,banana,cherry\"\n",
    "print(text.split(\",\"))\n",
    "\n",
    "# join() - Joins list elements into a string\n",
    "words = [\"Hello\", \"World\"]\n",
    "print(\" \".join(words))\n",
    "\n",
    "# replace() - Replaces occurrences of a substring\n",
    "text = \"Hello, World!\"\n",
    "print(text.replace(\"World\", \"Python\"))"
   ],
   "id": "49f768330321a18b",
   "outputs": [
    {
     "name": "stdout",
     "output_type": "stream",
     "text": [
      "Results\n",
      "-------\n",
      "HELLO, WORLD!\n",
      "hello, world!\n",
      "Python\n",
      "['apple', 'banana', 'cherry']\n",
      "Hello World\n",
      "Hello, Python!\n"
     ]
    }
   ],
   "execution_count": 54
  },
  {
   "metadata": {
    "ExecuteTime": {
     "end_time": "2024-10-07T09:55:14.403424Z",
     "start_time": "2024-10-07T09:55:14.399489Z"
    }
   },
   "cell_type": "code",
   "source": [
    "l = ['a', 'b', 'c', 'd', 'e']\n",
    "m = l\n",
    "m[1] = 'z'\n",
    "print(m)\n",
    "print(l)"
   ],
   "id": "8e5c2e473934d10a",
   "outputs": [
    {
     "name": "stdout",
     "output_type": "stream",
     "text": [
      "['a', 'z', 'c', 'd', 'e']\n",
      "['a', 'z', 'c', 'd', 'e']\n"
     ]
    }
   ],
   "execution_count": 57
  },
  {
   "metadata": {
    "ExecuteTime": {
     "end_time": "2024-10-07T10:58:47.852965Z",
     "start_time": "2024-10-07T10:58:47.848014Z"
    }
   },
   "cell_type": "code",
   "source": [
    "#produce an example of indexing and slicing for lists\n",
    "print(\"Results\")\n",
    "print(\"-------\")\n",
    "# Indexing\n",
    "l = ['a', 'b', 'c', 'd', 'e']\n",
    "print(l[0])  # First element\n",
    "print(l[-1])  # Last element\n",
    "print(l[-2])  # Second to last element\n",
    "print()\n",
    "# Slicing\n",
    "l = ['a', 'b', 'c', 'd', 'e']\n",
    "print(l[1:3])  # Second and third elements\n",
    "print(l[:2])  # First two elements\n",
    "print(l[2:])  # Last three elements\n",
    "print(l[:])  # All elements\n",
    "print(l[:-1])  # All elements except the last\n",
    "print(l[::2])  # Every second element\n",
    "print(l[::-1])  # All elements in reverse order"
   ],
   "id": "fc13952b0874c76c",
   "outputs": [
    {
     "ename": "SyntaxError",
     "evalue": "closing parenthesis ')' does not match opening parenthesis '[' (1148138780.py, line 19)",
     "output_type": "error",
     "traceback": [
      "\u001B[0;36m  Cell \u001B[0;32mIn[59], line 19\u001B[0;36m\u001B[0m\n\u001B[0;31m    print(l[0:)\u001B[0m\n\u001B[0m              ^\u001B[0m\n\u001B[0;31mSyntaxError\u001B[0m\u001B[0;31m:\u001B[0m closing parenthesis ')' does not match opening parenthesis '['\n"
     ]
    }
   ],
   "execution_count": 59
  },
  {
   "metadata": {
    "ExecuteTime": {
     "end_time": "2024-10-07T11:30:38.889368Z",
     "start_time": "2024-10-07T11:30:38.884053Z"
    }
   },
   "cell_type": "code",
   "source": [
    "m = l * 3\n",
    "print(m)\n"
   ],
   "id": "61fa62b1bf47b7d7",
   "outputs": [
    {
     "name": "stdout",
     "output_type": "stream",
     "text": [
      "['a', 'b', 'c', 'd', 'e', 'a', 'b', 'c', 'd', 'e', 'a', 'b', 'c', 'd', 'e']\n"
     ]
    }
   ],
   "execution_count": 62
  },
  {
   "metadata": {
    "ExecuteTime": {
     "end_time": "2024-10-07T11:31:51.664334Z",
     "start_time": "2024-10-07T11:31:51.656558Z"
    }
   },
   "cell_type": "code",
   "source": [
    "m[0] = 'z'\n",
    "#m[5] = 'w'\n",
    "print(m)\n",
    "print(l)"
   ],
   "id": "c42ce304a6280bb7",
   "outputs": [
    {
     "name": "stdout",
     "output_type": "stream",
     "text": [
      "['z', 'b', 'c', 'd', 'e', 'w', 'b', 'c', 'd', 'e', 'a', 'b', 'c', 'd', 'e']\n",
      "['a', 'b', 'c', 'd', 'e']\n"
     ]
    }
   ],
   "execution_count": 69
  },
  {
   "metadata": {
    "ExecuteTime": {
     "end_time": "2024-10-07T12:00:26.483985Z",
     "start_time": "2024-10-07T12:00:26.470970Z"
    }
   },
   "cell_type": "code",
   "source": [
    "print(\"Results\")\n",
    "print(\"-------\")\n",
    "original = [1, 2, 3]\n",
    "repeated = original * 3 # List repetition\n",
    "print(repeated)\n",
    "\n",
    "empty_repeated = [] * 5 # Repeating an empty list\n",
    "print(empty_repeated)\n",
    "\n",
    "nested = [[0]] * 4 # Repeating a list with nested elements\n",
    "print(nested)\n",
    "\n",
    "list1 = [1, 2, 3]\n",
    "list2 = [4, 5, 6]\n",
    "concatenated = list1 + list2 # List concatenation using +\n",
    "print(concatenated)\n",
    "\n",
    "list3 = [7, 8, 9]\n",
    "multi_concat = list1 + list2 + list3 # Concatenating multiple lists\n",
    "print(multi_concat)\n",
    "\n",
    "original = [1, 2, 3]\n",
    "original += [4, 5] # In-place concatenation using +=\n",
    "print(original)\n",
    "\n",
    "result = [] + [1, 2, 3] # Concatenating with an empty list\n",
    "print(result)\n",
    "\n",
    "combined = [0, 1] * 3 + [2, 3] * 2 # Combining repetition and concatenation\n",
    "        print(combined)\n"
   ],
   "id": "89cde11f3d2af4e2",
   "outputs": [
    {
     "name": "stdout",
     "output_type": "stream",
     "text": [
      "Results\n",
      "-------\n",
      "[1, 2, 3, 1, 2, 3, 1, 2, 3]\n",
      "[]\n",
      "[[0], [0], [0], [0]]\n",
      "[1, 2, 3, 4, 5, 6]\n",
      "[1, 2, 3, 4, 5, 6, 7, 8, 9]\n",
      "[1, 2, 3, 4, 5]\n",
      "[1, 2, 3]\n",
      "[0, 1, 0, 1, 0, 1, 2, 3, 2, 3]\n"
     ]
    }
   ],
   "execution_count": 71
  },
  {
   "metadata": {
    "ExecuteTime": {
     "end_time": "2024-10-27T09:27:40.781833Z",
     "start_time": "2024-10-27T09:27:40.773690Z"
    }
   },
   "cell_type": "code",
   "source": [
    "print(\"Results\")\n",
    "print(\"-------\")\n",
    "# Basic iteration through a list\n",
    "fruits = ['apple', 'banana', 'cherry']\n",
    "for fruit in fruits:\n",
    "    print(fruit)\n",
    "\n",
    "# Modifying list elements in place\n",
    "numbers = [1, 2, 3, 4, 5]\n",
    "for i in range(len(numbers)):\n",
    "    numbers[i] = numbers[i] * 2\n",
    "print(numbers)\n",
    "\n",
    "# Performing operations on each item\n",
    "scores = [75, 82, 93, 68, 87]\n",
    "total = 0\n",
    "for score in scores:\n",
    "    total += score\n",
    "average = total / len(scores)\n",
    "print(\"Average score\", average)\n",
    "\n",
    "# Using range() to iterate a specific number of times\n",
    "for i in range(5):\n",
    "    print(\"iteration\", i)\n",
    "\n"
   ],
   "id": "4807391e9c7a6d9c",
   "outputs": [
    {
     "name": "stdout",
     "output_type": "stream",
     "text": [
      "Results\n",
      "-------\n",
      "apple\n",
      "banana\n",
      "cherry\n",
      "[2, 4, 6, 8, 10]\n",
      "Average score 81.0\n",
      "iteration 0\n",
      "iteration 1\n",
      "iteration 2\n",
      "iteration 3\n",
      "iteration 4\n"
     ]
    }
   ],
   "execution_count": 1
  },
  {
   "metadata": {
    "ExecuteTime": {
     "end_time": "2024-10-07T15:21:51.508178Z",
     "start_time": "2024-10-07T15:21:51.506058Z"
    }
   },
   "cell_type": "code",
   "source": "",
   "id": "b4b765294401eb34",
   "outputs": [],
   "execution_count": null
  },
  {
   "metadata": {
    "ExecuteTime": {
     "end_time": "2024-10-07T15:33:42.735516Z",
     "start_time": "2024-10-07T15:33:42.730446Z"
    }
   },
   "cell_type": "code",
   "source": [
    "print(\"Results\")\n",
    "print(\"-------\")\n",
    "# Using enumerate() to access index and value\n",
    "fruits = ['apple', 'banana', 'cherry']\n",
    "for index, fruit in enumerate(fruits):\n",
    "    print(\"Index\", index, fruit)\n",
    "\n",
    "# Nested for loops with a 2D list\n",
    "matrix = [[1, 2, 3], [4, 5, 6], [7, 8, 9]]\n",
    "for row in matrix:\n",
    "    for item in row:\n",
    "        print(item, end=' ')\n",
    "    print()  # New line after each row\n",
    "\n",
    "# Modifying the original list (demonstrating reference behavior)\n",
    "numbers = [1, 2, 3, 4, 5]\n",
    "for num in numbers:\n",
    "    if num % 2 == 0:\n",
    "        numbers.remove(num)\n",
    "print(numbers)  # Note: This can lead to unexpected results\n",
    "\n"
   ],
   "id": "2ec7dcfbc50b35cf",
   "outputs": [
    {
     "name": "stdout",
     "output_type": "stream",
     "text": [
      "Results\n",
      "-------\n",
      "Index 0 apple\n",
      "Index 1 banana\n",
      "Index 2 cherry\n",
      "1 2 3 \n",
      "4 5 6 \n",
      "7 8 9 \n",
      "[1, 3, 5]\n"
     ]
    }
   ],
   "execution_count": 76
  },
  {
   "metadata": {
    "ExecuteTime": {
     "end_time": "2024-10-07T18:30:55.520438Z",
     "start_time": "2024-10-07T18:30:55.515419Z"
    }
   },
   "cell_type": "code",
   "source": [
    "print(\"Results\")\n",
    "print(\"-------\")\n",
    "# Create a sample list\n",
    "fruits = ['apple', 'banana', 'cherry', 'date']\n",
    "\n",
    "# append() - Adds an element to the end of the list\n",
    "fruits.append('tomato')\n",
    "print(fruits)\n",
    "\n",
    "# extend() - Adds all elements of an iterable to the end of the list\n",
    "more_fruits = ['fig', 'grape']\n",
    "fruits.extend(more_fruits)\n",
    "print(fruits)\n",
    "\n",
    "# insert() - Inserts an element at a specified position\n",
    "fruits.insert(2, 'blueberry')\n",
    "print(fruits)\n",
    "\n",
    "# remove() - Removes the first occurrence of a specified element\n",
    "fruits.remove('date')\n",
    "print(fruits)\n",
    "\n",
    "# pop() - Removes and returns an element at a specified position (or the last element if no index is specified)\n",
    "popped_fruit = fruits.pop(3)\n",
    "print(popped_fruit)\n",
    "print(fruits)\n",
    "\n"
   ],
   "id": "2a366ffb3c39262e",
   "outputs": [
    {
     "name": "stdout",
     "output_type": "stream",
     "text": [
      "Results\n",
      "-------\n",
      "['apple', 'banana', 'cherry', 'date', 'tomato']\n",
      "['apple', 'banana', 'cherry', 'date', 'tomato', 'fig', 'grape']\n",
      "['apple', 'banana', 'blueberry', 'cherry', 'date', 'tomato', 'fig', 'grape']\n",
      "['apple', 'banana', 'blueberry', 'cherry', 'tomato', 'fig', 'grape']\n",
      "cherry\n",
      "['apple', 'banana', 'blueberry', 'tomato', 'fig', 'grape']\n"
     ]
    }
   ],
   "execution_count": 85
  },
  {
   "metadata": {
    "ExecuteTime": {
     "end_time": "2024-10-07T18:30:58.927631Z",
     "start_time": "2024-10-07T18:30:58.922449Z"
    }
   },
   "cell_type": "code",
   "source": [
    "print(fruits)\n",
    "\n",
    "# index() - Returns the index of the first occurrence of a specified element\n",
    "banana_index = fruits.index('banana')\n",
    "print(banana_index)\n",
    "\n",
    "# count() - Returns the number of occurrences of a specified element\n",
    "fruit_count = fruits.count('apple')\n",
    "print(fruit_count)\n",
    "\n",
    "# sort() - Sorts the list in ascending order\n",
    "fruits.sort()\n",
    "print(fruits)\n",
    "\n",
    "# reverse() - Reverses the order of the list\n",
    "fruits.reverse()\n",
    "print(fruits)\n",
    "\n",
    "# clear() - Removes all elements from the list\n",
    "fruits.clear()\n",
    "print(fruits)\n"
   ],
   "id": "e5dbd338ca6c73e9",
   "outputs": [
    {
     "name": "stdout",
     "output_type": "stream",
     "text": [
      "['apple', 'banana', 'blueberry', 'tomato', 'fig', 'grape']\n",
      "1\n",
      "1\n",
      "['apple', 'banana', 'blueberry', 'fig', 'grape', 'tomato']\n",
      "['tomato', 'grape', 'fig', 'blueberry', 'banana', 'apple']\n",
      "[]\n",
      "[1, 2, 3]\n"
     ]
    }
   ],
   "execution_count": 86
  },
  {
   "metadata": {
    "ExecuteTime": {
     "end_time": "2024-10-07T19:06:23.715141Z",
     "start_time": "2024-10-07T19:06:23.710755Z"
    }
   },
   "cell_type": "code",
   "source": [
    "import copy\n",
    "\n",
    "print(\"Results\")\n",
    "print(\"-------\")\n",
    "# Original list with nested elements\n",
    "original = [1, [2, 3], [4, 5], \"hello\"]\n",
    "\n",
    "# Shallow copy\n",
    "shallow = original.copy()\n",
    "\n",
    "# Deep copy\n",
    "deep = copy.deepcopy(original)\n",
    "\n",
    "print(\"Original:\", original)\n",
    "print(\"Shallow copy:\", shallow)\n",
    "print(\"Deep copy:\", deep)\n",
    "\n",
    "# Modify the original list\n",
    "original[0] = 9\n",
    "original[1][0] = 8\n",
    "\n",
    "print(\"\\nAfter modifying original:\")\n",
    "print(\"Original:\", original)\n",
    "print(\"Shallow copy:\", shallow)\n",
    "print(\"Deep copy:\", deep)\n",
    "\n"
   ],
   "id": "8b11eca9e5390f3d",
   "outputs": [
    {
     "name": "stdout",
     "output_type": "stream",
     "text": [
      "Results\n",
      "-------\n",
      "Original: [1, [2, 3], [4, 5], 'hello']\n",
      "Shallow copy: [1, [2, 3], [4, 5], 'hello']\n",
      "Deep copy: [1, [2, 3], [4, 5], 'hello']\n",
      "\n",
      "After modifying original:\n",
      "Original: [9, [8, 3], [4, 5], 'hello']\n",
      "Shallow copy: [1, [8, 3], [4, 5], 'hello']\n",
      "Deep copy: [1, [2, 3], [4, 5], 'hello']\n"
     ]
    }
   ],
   "execution_count": 95
  },
  {
   "metadata": {
    "ExecuteTime": {
     "end_time": "2024-10-11T16:21:51.929710Z",
     "start_time": "2024-10-11T16:21:51.925195Z"
    }
   },
   "cell_type": "code",
   "source": [
    "print(\"Results\")\n",
    "print(\"-------\")\n",
    "\n",
    "orig = [1, [2, 3], 4, 5]\n",
    "shallow_copy = orig.copy() # would work as orig[:] as well\n",
    "shallow_copy[0] = 9 # change an element\n",
    "shallow_copy[1][0] = 8 # change a mutable element of the nested list\n",
    "shallow_copy += [38] # change structure\n",
    "print(\"Original:\", orig)\n",
    "print(\"Shallow copy:\", shallow_copy)\n"
   ],
   "id": "1171e16c7dbdabbc",
   "outputs": [
    {
     "name": "stdout",
     "output_type": "stream",
     "text": [
      "Results\n",
      "-------\n",
      "Original: [1, [8, 3], 4, 5]\n",
      "Shallow copy: [9, [8, 3], 4, 5, 38]\n"
     ]
    }
   ],
   "execution_count": 7
  },
  {
   "metadata": {
    "ExecuteTime": {
     "end_time": "2024-10-11T16:21:02.945645Z",
     "start_time": "2024-10-11T16:21:02.940627Z"
    }
   },
   "cell_type": "code",
   "source": [
    "l=[1,[2,5],3,4]\n",
    "m=l[:]\n",
    "m[0]=5\n",
    "m[1][0]=17\n",
    "print(l)\n",
    "print(m)"
   ],
   "id": "c40a44fb21355a37",
   "outputs": [
    {
     "name": "stdout",
     "output_type": "stream",
     "text": [
      "[1, [17, 5], 3, 4]\n",
      "[5, [17, 5], 3, 4]\n"
     ]
    }
   ],
   "execution_count": 4
  },
  {
   "metadata": {
    "ExecuteTime": {
     "end_time": "2024-10-08T08:54:49.100553Z",
     "start_time": "2024-10-08T08:54:49.077868Z"
    }
   },
   "cell_type": "code",
   "source": [
    "print(\"Results\")\n",
    "print(\"-------\")\n",
    "p1 = [1,[2,3],4]\n",
    "p_copy = p1\n",
    "p1[0] = 5\n",
    "p1[1][0] = 17\n",
    "print(\"p1 = \", p1)\n",
    "print(\"p_copy = \",p_copy)\n",
    "\n",
    "import copy\n",
    "p2 = [1,[2,3],4]\n",
    "p2_deep = copy.deepcopy(p2)\n",
    "p2[0] = 5\n",
    "p2[1][0] = 17\n",
    "print(\"p2 = \", p2)\n",
    "print(\"p2_deep = \",p2_deep)\n",
    "\n"
   ],
   "id": "3deb3cdc75b0730a",
   "outputs": [
    {
     "name": "stdout",
     "output_type": "stream",
     "text": [
      "Results\n",
      "-------\n",
      "p1 =  [5, [17, 3], 4]\n",
      "p_copy =  [5, [17, 3], 4]\n",
      "p2 =  [5, [17, 3], 4]\n",
      "p2_deep =  [1, [2, 3], 4]\n"
     ]
    }
   ],
   "execution_count": 108
  },
  {
   "metadata": {
    "ExecuteTime": {
     "end_time": "2024-10-08T09:16:00.269243Z",
     "start_time": "2024-10-08T09:16:00.260568Z"
    }
   },
   "cell_type": "code",
   "source": [
    "print(\"Results\")\n",
    "print(\"-------\")\n",
    "\n",
    "# No list comprehension initialization\n",
    "my_vec = []\n",
    "for i in range(5):\n",
    "    my_vec.append(0)\n",
    "print(\"my_vec:\", my_vec)\n",
    "\n",
    "# List comprehension initialization\n",
    "my_vec = [0 for i in range(5)]\n",
    "print(\"my_vec:\", my_vec)\n",
    "\n",
    "# No list comprehension\n",
    "numbers = [1, 2, 3, 4, 5]\n",
    "squares = []\n",
    "for x in numbers:\n",
    "    squares.append(x**2)\n",
    "print(\"squares:\", squares)\n",
    "\n",
    "# List comprehension\n",
    "numbers = [1, 2, 3, 4, 5]\n",
    "squares = [x**2 for x in numbers]\n",
    "print(\"squares:\", squares)\n",
    "\n",
    "# No list comprehension with condition\n",
    "evens = []\n",
    "for x in range(6):\n",
    "    if x % 2 == 0:\n",
    "        evens.append(x)\n",
    "print(\"evens:\", evens)  \n",
    "\n",
    "# List comprehension with condition\n",
    "evens = [x for x in range(6) if x % 2 == 0]\n",
    "print(\"evens:\", evens)\n"
   ],
   "id": "723a2ea8edc9bd29",
   "outputs": [
    {
     "name": "stdout",
     "output_type": "stream",
     "text": [
      "Results\n",
      "-------\n",
      "my_vec: [0, 0, 0, 0, 0]\n",
      "my_vec: [0, 0, 0, 0, 0]\n",
      "squares: [1, 4, 9, 16, 25]\n",
      "squares: [1, 4, 9, 16, 25]\n",
      "evens: [0, 2, 4]\n",
      "evens: [0, 2, 4]\n"
     ]
    }
   ],
   "execution_count": 113
  },
  {
   "metadata": {
    "ExecuteTime": {
     "end_time": "2024-10-08T09:21:47.688994Z",
     "start_time": "2024-10-08T09:21:47.685265Z"
    }
   },
   "cell_type": "code",
   "source": "",
   "id": "24aa25ab0ae13d40",
   "outputs": [],
   "execution_count": 114
  },
  {
   "metadata": {
    "ExecuteTime": {
     "end_time": "2024-10-08T09:21:51.336009Z",
     "start_time": "2024-10-08T09:21:51.328481Z"
    }
   },
   "cell_type": "code",
   "source": "\n",
   "id": "b41a8e3864c23bbf",
   "outputs": [
    {
     "data": {
      "text/plain": [
       "'hellobye'"
      ]
     },
     "execution_count": 115,
     "metadata": {},
     "output_type": "execute_result"
    }
   ],
   "execution_count": 115
  },
  {
   "metadata": {
    "ExecuteTime": {
     "end_time": "2024-10-08T09:28:42.138841Z",
     "start_time": "2024-10-08T09:28:42.129361Z"
    }
   },
   "cell_type": "code",
   "source": [
    "# Single quotes\n",
    "single_quoted = 'Hello, World!'\n",
    "print(single_quoted)\n",
    "print()\n",
    "# Double quotes\n",
    "double_quoted = \"Python is great\"\n",
    "print(double_quoted)\n",
    "print()\n",
    "# Triple quotes for multi-line strings\n",
    "multi_line = '''This is a\n",
    "multi-line\n",
    "string'''\n",
    "print(multi_line)\n",
    "\n",
    "# Triple double quotes\n",
    "another_multi_line = \"\"\"\n",
    "It can also be done\n",
    "with double quotes\n",
    "\"\"\"\n",
    "print(another_multi_line)"
   ],
   "id": "e026a7ffde81d9c5",
   "outputs": [
    {
     "name": "stdout",
     "output_type": "stream",
     "text": [
      "Hello, World!\n",
      "\n",
      "Python is great\n",
      "\n",
      "This is a\n",
      "multi-line\n",
      "string\n",
      "\n",
      "It can also be done\n",
      "with double quotes\n",
      "\n"
     ]
    }
   ],
   "execution_count": 118
  },
  {
   "metadata": {
    "ExecuteTime": {
     "end_time": "2024-10-08T09:31:33.113953Z",
     "start_time": "2024-10-08T09:31:33.107961Z"
    }
   },
   "cell_type": "code",
   "source": [
    "p1 = [1,2,3]\n",
    "print(\"len(p1) = \", len(p1))\n",
    "\n",
    "p2 = []\n",
    "print(\"len(p2) = \", len(p2))\n",
    "\n",
    "p3 = [[1,2,3],[4,5,6]]\n",
    "print(\"len(p3) = \", len(p3))"
   ],
   "id": "7dd569c560a6ae65",
   "outputs": [
    {
     "name": "stdout",
     "output_type": "stream",
     "text": [
      "len(p1) =  3\n",
      "len(p2) =  0\n",
      "len(p3) =  2\n"
     ]
    }
   ],
   "execution_count": 119
  },
  {
   "metadata": {
    "ExecuteTime": {
     "end_time": "2024-10-08T09:35:40.978432Z",
     "start_time": "2024-10-08T09:35:40.969263Z"
    }
   },
   "cell_type": "code",
   "source": [
    "my_list = [0,5,[0,-17]]\n",
    "for i in range(len(my_list)):\n",
    "    print(my_list[i])"
   ],
   "id": "36b6a8133afb7c1",
   "outputs": [
    {
     "name": "stdout",
     "output_type": "stream",
     "text": [
      "0\n",
      "5\n",
      "[0, -17]\n"
     ]
    }
   ],
   "execution_count": 128
  },
  {
   "metadata": {
    "ExecuteTime": {
     "end_time": "2024-10-08T09:47:53.151990Z",
     "start_time": "2024-10-08T09:47:53.148508Z"
    }
   },
   "cell_type": "code",
   "source": [
    "my_list = [0,5,-17]\n",
    "for x in my_list:\n",
    "    x = x + 1\n",
    "print (my_list)"
   ],
   "id": "7446b834bfe33115",
   "outputs": [
    {
     "name": "stdout",
     "output_type": "stream",
     "text": [
      "[0, 5, -17]\n"
     ]
    }
   ],
   "execution_count": 131
  },
  {
   "metadata": {
    "ExecuteTime": {
     "end_time": "2024-10-08T15:32:08.815381Z",
     "start_time": "2024-10-08T15:32:08.783276Z"
    }
   },
   "cell_type": "code",
   "source": [
    "# Regular string\n",
    "regular = \"Hello\\nWorld\\t!\"\n",
    "print(\"Regular string:\")\n",
    "print(regular)\n",
    "\n",
    "# Raw string\n",
    "raw = r\"Hello\\nWorld\\t!\"\n",
    "print(\"\\nRaw string:\")\n",
    "print(raw)\n",
    "\n",
    "# Byte string\n",
    "byte = b\"Hello World!\"\n",
    "print(\"\\nByte string:\")\n",
    "print(byte)\n",
    "print(byte[0])  # Prints the ASCII value of 'H'\n",
    "\n",
    "# Regular string with unicode\n",
    "unicode_regular = \"Python is 🐍\"\n",
    "print(\"\\nRegular string with unicode:\")\n",
    "print(unicode_regular)\n",
    "\n",
    "# Byte string can't contain non-ASCII characters directly\n",
    "try:\n",
    "    byte_unicode = b\"Python is 🐍\"\n",
    "except SyntaxError as e:\n",
    "    print(\"\\nByte string with unicode attempt:\")\n",
    "    print(f\"SyntaxError: {e}\")\n",
    "\n",
    "# Converting between regular and byte strings\n",
    "regular_from_byte = byte.decode('utf-8')\n",
    "byte_from_regular = unicode_regular.encode('utf-8')\n",
    "\n",
    "print(\"\\nConverted strings:\")\n",
    "print(f\"Regular from byte: {regular_from_byte}\")\n",
    "print(f\"Byte from regular: {byte_from_regular}\")"
   ],
   "id": "8172fb267a45cd52",
   "outputs": [
    {
     "ename": "SyntaxError",
     "evalue": "bytes can only contain ASCII literal characters (1537047114.py, line 24)",
     "output_type": "error",
     "traceback": [
      "\u001B[0;36m  Cell \u001B[0;32mIn[132], line 24\u001B[0;36m\u001B[0m\n\u001B[0;31m    byte_unicode = b\"Python is 🐍\"\u001B[0m\n\u001B[0m                   ^\u001B[0m\n\u001B[0;31mSyntaxError\u001B[0m\u001B[0;31m:\u001B[0m bytes can only contain ASCII literal characters\n"
     ]
    }
   ],
   "execution_count": 132
  },
  {
   "metadata": {
    "ExecuteTime": {
     "end_time": "2024-10-08T19:16:01.226561Z",
     "start_time": "2024-10-08T19:16:01.222998Z"
    }
   },
   "cell_type": "code",
   "source": [
    "print(\"Results\")\n",
    "print(\"-------\")\n",
    "\n",
    "regular_string_wrong = \"c:\\path\\to\\file\"\n",
    "regular_string_correct = \"c:\\\\path\\\\to\\\\file\"\n",
    "print(regular_string_wrong)\n",
    "print(regular_string_correct)\n",
    "\n",
    "raw_string = r\"c:\\path\\to\\file\"\n",
    "print(raw_string)\n",
    "\n"
   ],
   "id": "7419bf2910f565ed",
   "outputs": [
    {
     "name": "stdout",
     "output_type": "stream",
     "text": [
      "Results\n",
      "-------\n",
      "c:\\path\to\file\n",
      "c:\\path\\to\\file\n",
      "c:\\path\\to\\file\n"
     ]
    },
    {
     "name": "stderr",
     "output_type": "stream",
     "text": [
      "<>:4: SyntaxWarning: invalid escape sequence '\\p'\n",
      "<>:4: SyntaxWarning: invalid escape sequence '\\p'\n",
      "/var/folders/4v/xzs4_k713q54rmt86bcq00rw0000gp/T/ipykernel_2560/2305430866.py:4: SyntaxWarning: invalid escape sequence '\\p'\n",
      "  regular_string_wrong = \"c:\\path\\to\\file\"\n"
     ]
    }
   ],
   "execution_count": 35
  },
  {
   "metadata": {
    "ExecuteTime": {
     "end_time": "2024-10-09T08:16:54.652330Z",
     "start_time": "2024-10-09T08:16:54.648151Z"
    }
   },
   "cell_type": "code",
   "source": [
    "text = \"\"\"\n",
    "device = ETH0123, ip=192.168.1.122, status=UP\n",
    "system=MMI301U, ip=192.168.1.123, status=DOWN\n",
    "device=ETH0124, ip=192.168.1.212, status=UP\n",
    "router=RT01, ip=192.168.1.191, status=UP\n",
    "\"\"\"\n",
    "\n",
    "import re\n",
    "regexp = r'(?:device\\s*=\\s*|system\\s*=\\s*)([0-9A-Z]+)\\s*,'\n",
    "re.findall(regexp,text)"
   ],
   "id": "e34158837a912d6f",
   "outputs": [
    {
     "data": {
      "text/plain": [
       "['ETH0123', 'MMI301U', 'ETH0124']"
      ]
     },
     "execution_count": 74,
     "metadata": {},
     "output_type": "execute_result"
    }
   ],
   "execution_count": 74
  },
  {
   "metadata": {
    "ExecuteTime": {
     "end_time": "2024-10-08T16:01:20.660187Z",
     "start_time": "2024-10-08T16:01:20.656781Z"
    }
   },
   "cell_type": "code",
   "source": "",
   "id": "d7b38605036a829c",
   "outputs": [
    {
     "name": "stdout",
     "output_type": "stream",
     "text": [
      "[5, 2, 3]\n"
     ]
    }
   ],
   "execution_count": 3
  },
  {
   "metadata": {},
   "cell_type": "code",
   "outputs": [],
   "execution_count": null,
   "source": "",
   "id": "e866b1ef75dc78ee"
  },
  {
   "metadata": {
    "ExecuteTime": {
     "end_time": "2024-10-08T19:45:59.737323Z",
     "start_time": "2024-10-08T19:45:59.732332Z"
    }
   },
   "cell_type": "code",
   "source": [
    "print(\"Results\")\n",
    "print(\"-------\")\n",
    "\n",
    "name = \"Alice\"\n",
    "age = 30\n",
    "print(f\"My name is {name} and I'm {age} years old.\")\n",
    "\n",
    "# Simple arithmetic\n",
    "x = 10\n",
    "y = 5\n",
    "print(f\"{x} plus {y} equals {x + y}\")\n",
    "\n",
    "#fibonacci series\n",
    "fib = [0 for x in range(20)]\n",
    "fib[0] = 1\n",
    "fib[1] = 1\n",
    "for i in range(2,20):\n",
    "    fib[i] = fib[i-1] + fib[i-2]\n",
    "    \n",
    "for i in range(15,20):\n",
    "    print(f\"fib[{i}] = {fib[i]:,}\")\n",
    "\n",
    "#percentage formatting\n",
    "print(f\"6 is {6/20:.2%} of 20\")\n",
    "\n",
    "import math\n",
    "e = math.e\n",
    "print(f\"e = {e:.5f}\")\n",
    "print(f\"e**5 = {e**5:.3e}\")\n",
    "\n",
    "print(f\"c={299792458:.4e} m/s is the speed of light\")\n"
   ],
   "id": "d574ee6e5b80517",
   "outputs": [
    {
     "name": "stdout",
     "output_type": "stream",
     "text": [
      "My name is Alice and I'm 30 years old.\n",
      "10 plus 5 equals 15\n",
      "fib[15] = 987\n",
      "fib[16] = 1,597\n",
      "fib[17] = 2,584\n",
      "fib[18] = 4,181\n",
      "fib[19] = 6,765\n",
      "6 is 30.00% of 20\n",
      "e = 2.71828\n",
      "e**5 = 1.484e+02\n",
      "c=2.9979e+08 m/s is the speed of light\n"
     ]
    }
   ],
   "execution_count": 68
  },
  {
   "metadata": {
    "ExecuteTime": {
     "end_time": "2024-10-08T19:44:52.204066Z",
     "start_time": "2024-10-08T19:44:52.201151Z"
    }
   },
   "cell_type": "code",
   "source": "print(f\"c={299792458:.4e} m/s is the speed of light\")\n",
   "id": "7c2608d881c9c6e8",
   "outputs": [
    {
     "name": "stdout",
     "output_type": "stream",
     "text": [
      "c=2.9979e+08 m/s is the speed of light\n"
     ]
    }
   ],
   "execution_count": 65
  },
  {
   "metadata": {
    "ExecuteTime": {
     "end_time": "2024-10-08T16:14:44.904373Z",
     "start_time": "2024-10-08T16:14:44.898915Z"
    }
   },
   "cell_type": "code",
   "source": "[0] ",
   "id": "80040c3a8222d03b",
   "outputs": [
    {
     "data": {
      "text/plain": [
       "[0, 0, 0, 0, 0, 0]"
      ]
     },
     "execution_count": 12,
     "metadata": {},
     "output_type": "execute_result"
    }
   ],
   "execution_count": 12
  },
  {
   "metadata": {
    "ExecuteTime": {
     "end_time": "2024-10-11T16:47:56.367764Z",
     "start_time": "2024-10-11T16:47:56.363236Z"
    }
   },
   "cell_type": "code",
   "source": [
    "# Creating a dictionary\n",
    "print(\"Results\")\n",
    "print(\"-------\")\n",
    "person = {\n",
    "    \"name\": \"Alice\",\n",
    "    \"age\": 30,\n",
    "    \"city\": \"New York\",\n",
    "    \"is_student\": False\n",
    "}\n",
    "print(person)\n",
    "# Accessing values\n",
    "print(person[\"name\"])  # Output: Alice\n",
    "\n",
    "# Adding a new key-value pair\n",
    "person[\"occupation\"] = \"Engineer\"\n",
    "\n",
    "# Modifying an existing value\n",
    "person[\"age\"] = 31\n",
    "print(person)"
   ],
   "id": "b15b74a2abe38a88",
   "outputs": [
    {
     "name": "stdout",
     "output_type": "stream",
     "text": [
      "Results\n",
      "-------\n",
      "{'name': 'Alice', 'age': 30, 'city': 'New York', 'is_student': False}\n",
      "Alice\n",
      "{'name': 'Alice', 'age': 31, 'city': 'New York', 'is_student': False, 'occupation': 'Engineer'}\n"
     ]
    }
   ],
   "execution_count": 9
  },
  {
   "metadata": {
    "ExecuteTime": {
     "end_time": "2024-10-11T17:22:01.877672Z",
     "start_time": "2024-10-11T17:22:01.870964Z"
    }
   },
   "cell_type": "code",
   "source": [
    "# 1. Using curly braces (literal syntax)\n",
    "dict1 = {\"name\": \"Alice\", \"age\": 30, \"city\": \"New York\"}\n",
    "print(\"Dict 1:\", dict1)\n",
    "\n",
    "# 2. Using the dict() constructor with keyword arguments\n",
    "dict2 = dict(name=\"Bob\", age=25, city=\"San Francisco\")\n",
    "print(\"Dict 2:\", dict2)\n",
    "\n",
    "# 3. Using dict() with a list of tuples\n",
    "dict3 = dict([(\"name\", \"Charlie\"), (\"age\", 35), (\"city\", \"Chicago\")])\n",
    "print(\"Dict 3:\", dict3)\n",
    "\n",
    "# 4. Using dict() with zip()\n",
    "keys = [\"name\", \"age\", \"city\"]\n",
    "values = [\"David\", 28, \"Boston\"]\n",
    "dict4 = dict(zip(keys, values))\n",
    "print(\"Dict 4:\", dict4)\n",
    "\n",
    "# 5. Dictionary comprehension\n",
    "names = [\"Eve\", \"Frank\", \"Grace\"]\n",
    "ages = [22, 31, 29]\n",
    "dict5 = {name: age for name, age in zip(names, ages)}\n",
    "print(\"Dict 5:\", dict5)\n",
    "\n",
    "# 6. Creating from another dictionary (shallow copy)\n",
    "dict6 = dict(dict1)\n",
    "print(\"Dict 6:\", dict6)\n",
    "\n",
    "# 7. Using fromkeys() method (all values are the same)\n",
    "dict7 = dict.fromkeys([\"name\", \"age\", \"city\"], \"Unknown\")\n",
    "print(\"Dict 7:\", dict7)\n",
    "\n",
    "dict8 = {\n",
    "    \"person1\": {\"name\": \"Helen\", \"age\": 40},\n",
    "    \"person2\": {\"name\": \"Ivan\", \"age\": 35}\n",
    "}\n",
    "print(\"Dict 8:\", dict8)"
   ],
   "id": "aae184721e0a2d16",
   "outputs": [
    {
     "name": "stdout",
     "output_type": "stream",
     "text": [
      "Dict 1: {'name': 'Alice', 'age': 30, 'city': 'New York'}\n",
      "Dict 2: {'name': 'Bob', 'age': 25, 'city': 'San Francisco'}\n",
      "Dict 3: {'name': 'Charlie', 'age': 35, 'city': 'Chicago'}\n",
      "Dict 4: {'name': 'David', 'age': 28, 'city': 'Boston'}\n",
      "Dict 5: {'Eve': 22, 'Frank': 31, 'Grace': 29}\n",
      "Dict 6: {'name': 'Alice', 'age': 30, 'city': 'New York'}\n",
      "Dict 7: {'name': 'Unknown', 'age': 'Unknown', 'city': 'Unknown'}\n",
      "Dict 8: {'person1': {'name': 'Helen', 'age': 40}, 'person2': {'name': 'Ivan', 'age': 35}}\n"
     ]
    }
   ],
   "execution_count": 11
  },
  {
   "metadata": {
    "ExecuteTime": {
     "end_time": "2024-10-11T18:28:07.572520Z",
     "start_time": "2024-10-11T18:28:07.568094Z"
    }
   },
   "cell_type": "code",
   "source": [
    "print(\"Results\")\n",
    "print(\"-------\")\n",
    "\n",
    "# Start with a sample dictionary\n",
    "my_dict = {\"name\": \"Alice\", \"age\": 30, \"city\": \"New York\"}\n",
    "print(\"Original dictionary:\", my_dict)\n",
    "\n",
    "# Adding/updating a single key-value pair\n",
    "my_dict[\"job\"] = \"Engineer\"\n",
    "print(\"After adding 'job':\", my_dict)\n",
    "\n",
    "# Updating an existing value\n",
    "my_dict[\"age\"] = 31\n",
    "print(\"After updating 'age':\", my_dict)\n",
    "\n",
    "# Removing a key-value pair\n",
    "del my_dict[\"city\"]\n",
    "print(\"After deleting 'city':\", my_dict)\n",
    "\n",
    "# Updating multiple key-value pairs\n",
    "my_dict.update({\"salary\": 75000, \"department\": \"IT\"})\n",
    "print(\"After updating multiple values:\", my_dict)\n",
    "\n",
    "# Clearing all items from the dictionary\n",
    "my_dict.clear()\n",
    "print(\"After clearing:\", my_dict)\n"
   ],
   "id": "41d8b82acad3c448",
   "outputs": [
    {
     "name": "stdout",
     "output_type": "stream",
     "text": [
      "Results\n",
      "-------\n",
      "Original dictionary: {'name': 'Alice', 'age': 30, 'city': 'New York'}\n",
      "After adding 'job': {'name': 'Alice', 'age': 30, 'city': 'New York', 'job': 'Engineer'}\n",
      "After updating 'age': {'name': 'Alice', 'age': 31, 'city': 'New York', 'job': 'Engineer'}\n",
      "After deleting 'city': {'name': 'Alice', 'age': 31, 'job': 'Engineer'}\n",
      "After updating multiple values: {'name': 'Alice', 'age': 31, 'job': 'Engineer', 'salary': 75000, 'department': 'IT'}\n",
      "After clearing: {}\n"
     ]
    }
   ],
   "execution_count": 12
  },
  {
   "metadata": {
    "ExecuteTime": {
     "end_time": "2024-10-11T18:35:14.100258Z",
     "start_time": "2024-10-11T18:35:14.094013Z"
    }
   },
   "cell_type": "code",
   "source": [
    "print(\"Results\")\n",
    "print(\"-------\")\n",
    "# Sample dictionary\n",
    "person = {\n",
    "    \"name\": \"Alice\",\n",
    "    \"age\": 30,\n",
    "    \"city\": \"New York\",\n",
    "    \"job\": \"Engineer\",\n",
    "    \"hobbies\": [\"reading\", \"hiking\", \"photography\"]\n",
    "}\n",
    "\n",
    "# 1. Accessing a value using key\n",
    "name = person[\"name\"]\n",
    "print(\"1. Name:\", name)\n",
    "\n",
    "# 2. Safe access using get() (with default value)\n",
    "salary = person.get(\"salary\", \"Not specified\")\n",
    "print(\"2. Salary:\", salary)\n",
    "\n",
    "# 3. Getting all keys\n",
    "keys = person.keys()\n",
    "print(\"3. All keys:\", keys)\n",
    "\n",
    "# 4. Getting all values\n",
    "values = person.values()\n",
    "print(\"4. All values:\", values)\n",
    "\n",
    "# 5. Getting all key-value pairs as tuples\n",
    "items = person.items()\n",
    "print(\"5. All items:\", items)\n",
    "\n",
    "# 6. Checking if a key exists\n",
    "if \"job\" in person:\n",
    "    print(\"6. Job:\", person[\"job\"])\n",
    "\n",
    "# 7. Length of the dictionary\n",
    "dict_length = len(person)\n",
    "print(\"7. Number of items in dictionary:\", dict_length)\n",
    "\n",
    "# 8. Unpacking dictionary items\n",
    "for key, value in person.items():\n",
    "    print(f\"8.{key}: {value}\")"
   ],
   "id": "f6689858144314ee",
   "outputs": [
    {
     "name": "stdout",
     "output_type": "stream",
     "text": [
      "Results\n",
      "-------\n",
      "1. Name: Alice\n",
      "2. Salary: Not specified\n",
      "3. All keys: dict_keys(['name', 'age', 'city', 'job', 'hobbies'])\n",
      "4. All values: dict_values(['Alice', 30, 'New York', 'Engineer', ['reading', 'hiking', 'photography']])\n",
      "5. All items: dict_items([('name', 'Alice'), ('age', 30), ('city', 'New York'), ('job', 'Engineer'), ('hobbies', ['reading', 'hiking', 'photography'])])\n",
      "6. Job: Engineer\n",
      "7. Number of items in dictionary: 5\n",
      "8.name: Alice\n",
      "8.age: 30\n",
      "8.city: New York\n",
      "8.job: Engineer\n",
      "8.hobbies: ['reading', 'hiking', 'photography']\n"
     ]
    }
   ],
   "execution_count": 16
  },
  {
   "metadata": {
    "ExecuteTime": {
     "end_time": "2024-10-11T19:20:34.245869Z",
     "start_time": "2024-10-11T19:20:34.242108Z"
    }
   },
   "cell_type": "code",
   "source": [
    "def calc_rect_a(length, width):\n",
    "    area = length * width\n",
    "    return area\n",
    "\n",
    "if __name__ == \"__main__\":\n",
    "    # Function call with positional arguments\n",
    "    result1 = calc_rect_a(5, 3)\n",
    "    print(f\"Area of rectangle (5 x 3): {result1}\")\n",
    "    \n",
    "    # Function call with keyword arguments\n",
    "    result2 = calc_rect_a(width=4, length=6)\n",
    "    print(f\"Area of rectangle (6 x 4): {result2}\")\n",
    "\n"
   ],
   "id": "44913260acd01574",
   "outputs": [
    {
     "name": "stdout",
     "output_type": "stream",
     "text": [
      "Area of rectangle (5 x 3): 15\n",
      "Area of rectangle (6 x 4): 24\n"
     ]
    }
   ],
   "execution_count": 19
  },
  {
   "metadata": {
    "ExecuteTime": {
     "end_time": "2024-10-11T19:23:54.789869Z",
     "start_time": "2024-10-11T19:23:54.784987Z"
    }
   },
   "cell_type": "code",
   "source": [
    "import math\n",
    "\n",
    "def calc_circle_prop(radius):\n",
    "    area = math.pi * radius ** 2\n",
    "    circumference = 2 * math.pi * radius\n",
    "    return area, circumference\n",
    "\n",
    "if __name__ == \"__main__\":\n",
    "    # Calling the function and unpacking the returned values\n",
    "    radius = 5\n",
    "    A, circ = calc_circle_prop(radius)\n",
    "    \n",
    "    print(f\"For a circle with radius {radius}:\")\n",
    "    print(f\"Area: {A:.2f}\")\n",
    "    print(f\"Circumference: {circ:.2f}\")\n"
   ],
   "id": "a116c45d8228ef0d",
   "outputs": [
    {
     "name": "stdout",
     "output_type": "stream",
     "text": [
      "For a circle with radius 5:\n",
      "Area: 78.54\n",
      "Circumference: 31.42\n"
     ]
    }
   ],
   "execution_count": 22
  },
  {
   "metadata": {
    "ExecuteTime": {
     "end_time": "2024-10-11T19:33:05.529418Z",
     "start_time": "2024-10-11T19:33:05.524408Z"
    }
   },
   "cell_type": "code",
   "source": [
    "def greet(name, greeting=\"Hello\", punctuation=\"!\"):\n",
    "    return f\"{greeting}, {name}{punctuation}\"\n",
    "\n",
    "def power(base, exponent=2):\n",
    "    return base ** exponent\n",
    "\n",
    "if __name__ == \"__main__\":\n",
    "    # Examples using the greet function\n",
    "    print(greet(\"Alice\"))\n",
    "    print(greet(\"Bob\", greeting=\"Hi\"))\n",
    "    print(greet(\"Charlie\", greeting=\"Hey\", punctuation=\"...\"))\n",
    "    print(greet(\"David\", punctuation=\"?\"))\n",
    "\n",
    "    # Examples using the power function\n",
    "    print(power(5))\n",
    "    print(power(2, 3))\n",
    "    print(power(exponent=3, base=2))"
   ],
   "id": "29d8d4083cae974e",
   "outputs": [
    {
     "name": "stdout",
     "output_type": "stream",
     "text": [
      "Hello, Alice!\n",
      "Hi, Bob!\n",
      "Hey, Charlie...\n",
      "Hello, David?\n",
      "25\n",
      "8\n",
      "8\n"
     ]
    }
   ],
   "execution_count": 23
  },
  {
   "metadata": {
    "ExecuteTime": {
     "end_time": "2024-10-11T20:00:05.438786Z",
     "start_time": "2024-10-11T20:00:05.422596Z"
    }
   },
   "cell_type": "code",
   "source": [
    "def calculate_area(length, width):\n",
    "    area = length * width\n",
    "    print(f\"Inside function: area = {area}\")\n",
    "    return area\n",
    "\n",
    "if __name__ == \"__main__\":\n",
    "    length = 10\n",
    "    width = 5\n",
    "\n",
    "    result = calculate_area(length, width)\n",
    "    print(f\"Outside function: result = {result}\")\n",
    "\n",
    "    print(f\"Original length: {length}\")\n",
    "    print(f\"Original width: {width}\")\n",
    "    \n",
    "    # This will raise a NameError\n",
    "    print(f\"Trying to access area: {area}\")\n"
   ],
   "id": "ce022f1c54fa6d7b",
   "outputs": [
    {
     "name": "stdout",
     "output_type": "stream",
     "text": [
      "Inside function: area = 50\n",
      "Outside function: result = 50\n",
      "Original length: 10\n",
      "Original width: 5\n"
     ]
    },
    {
     "ename": "NameError",
     "evalue": "name 'area' is not defined",
     "output_type": "error",
     "traceback": [
      "\u001B[0;31m---------------------------------------------------------------------------\u001B[0m",
      "\u001B[0;31mNameError\u001B[0m                                 Traceback (most recent call last)",
      "Cell \u001B[0;32mIn[24], line 17\u001B[0m\n\u001B[1;32m     14\u001B[0m \u001B[38;5;28mprint\u001B[39m(\u001B[38;5;124mf\u001B[39m\u001B[38;5;124m\"\u001B[39m\u001B[38;5;124mOriginal width: \u001B[39m\u001B[38;5;132;01m{\u001B[39;00mwidth\u001B[38;5;132;01m}\u001B[39;00m\u001B[38;5;124m\"\u001B[39m)\n\u001B[1;32m     16\u001B[0m \u001B[38;5;66;03m# This will raise a NameError\u001B[39;00m\n\u001B[0;32m---> 17\u001B[0m \u001B[38;5;28mprint\u001B[39m(\u001B[38;5;124mf\u001B[39m\u001B[38;5;124m\"\u001B[39m\u001B[38;5;124mTrying to access area: \u001B[39m\u001B[38;5;132;01m{\u001B[39;00m\u001B[43marea\u001B[49m\u001B[38;5;132;01m}\u001B[39;00m\u001B[38;5;124m\"\u001B[39m)\n",
      "\u001B[0;31mNameError\u001B[0m: name 'area' is not defined"
     ]
    }
   ],
   "execution_count": 24
  },
  {
   "metadata": {},
   "cell_type": "markdown",
   "source": "",
   "id": "5dbf9d4f4dff84ce"
  },
  {
   "metadata": {},
   "cell_type": "markdown",
   "source": [
    "def fact(n):\n",
    "    if n==1:\n",
    "        return 1\n",
    "    else:\n",
    "        return n*fact(n-1)\n",
    " print(fact(5))"
   ],
   "id": "92ae083b1e4238b7"
  },
  {
   "metadata": {
    "ExecuteTime": {
     "end_time": "2024-10-12T16:54:59.882108Z",
     "start_time": "2024-10-12T16:54:59.876514Z"
    }
   },
   "cell_type": "code",
   "source": [
    "print(\"Results\")\n",
    "print(\"-------\")\n",
    "def collatz_steps(n: int, steps: int = 0) -> int:\n",
    "    if n == 1:\n",
    "        return steps\n",
    "    elif n % 2 == 0:\n",
    "        return collatz_steps(n // 2, steps + 1)\n",
    "    else:\n",
    "        return collatz_steps(3 * n + 1, steps + 1)\n",
    "\n",
    "def print_collatz_steps(num: int) -> None:\n",
    "    result: int = collatz_steps(num)\n",
    "    print(f\"Number {num} takes {result} steps to reach 1.\")\n",
    "\n",
    "if __name__ == \"__main__\":\n",
    "    # Test the function\n",
    "    test_numbers: list[int] = [6, 7, 27, 19, 871]\n",
    "    for num in test_numbers:\n",
    "        print_collatz_steps(num)"
   ],
   "id": "ccba12c9e293a3cd",
   "outputs": [
    {
     "name": "stdout",
     "output_type": "stream",
     "text": [
      "Results\n",
      "-------\n",
      "Number 6 takes 8 steps to reach 1.\n",
      "Number 7 takes 16 steps to reach 1.\n",
      "Number 27 takes 111 steps to reach 1.\n",
      "Number 19 takes 20 steps to reach 1.\n",
      "Number 871 takes 178 steps to reach 1.\n"
     ]
    }
   ],
   "execution_count": 29
  },
  {
   "metadata": {
    "ExecuteTime": {
     "end_time": "2024-10-12T17:00:53.392953Z",
     "start_time": "2024-10-12T17:00:53.387899Z"
    }
   },
   "cell_type": "code",
   "source": [
    "from typing import List, Union\n",
    "\n",
    "def calculate_average(numbers: List[float]) -> float:\n",
    "    total: float = sum(numbers)\n",
    "    count: int = len(numbers)\n",
    "    return total / count\n",
    "\n",
    "def process_data(data: List[Union[float, str]]) -> None:\n",
    "    cleaned_data: List[float] = []\n",
    "    for item in data:\n",
    "        if isinstance(item, (int, float)):\n",
    "            cleaned_data.append(float(item))\n",
    "        elif isinstance(item, str) and item.replace('.', '', 1).isdigit():\n",
    "            cleaned_data.append(float(item))\n",
    "    \n",
    "    average: float = calculate_average(cleaned_data)\n",
    "    print(f\"The average is: {average}\")\n",
    "\n",
    "if __name__ == \"__main__\":\n",
    "    # This data contains a mix of floats, integers, valid number strings, and an invalid string\n",
    "    mixed_data: List[Union[float, str]] = [1, 2.5, \"3.7\", 4, \"5\", \"6.8\", \"invalid\"]\n",
    "    process_data(mixed_data)"
   ],
   "id": "1cabc42ded524eb0",
   "outputs": [
    {
     "name": "stdout",
     "output_type": "stream",
     "text": [
      "The average is: 3.8333333333333335\n"
     ]
    }
   ],
   "execution_count": 30
  },
  {
   "metadata": {
    "ExecuteTime": {
     "end_time": "2024-10-13T10:28:50.882099Z",
     "start_time": "2024-10-13T10:28:50.877058Z"
    }
   },
   "cell_type": "code",
   "source": [
    "print(\"Results\")\n",
    "print(\"-------\")\n",
    "def modify_list(lst):\n",
    "    print(f\"Inside function, initially: {lst}\")\n",
    "    lst[0]= 17\n",
    "    lst.append(4)\n",
    "    print(f\"Inside function, after modification: {lst}\")\n",
    "\n",
    "def modify_number(num):\n",
    "    print(f\"Inside function, initially: {num}\")\n",
    "    num += 1\n",
    "    print(f\"Inside function, after modification: {num}\")\n",
    "\n",
    "if __name__ == \"__main__\":\n",
    "    # Example with a mutable object (list)\n",
    "    my_list = [1, 2, 3]\n",
    "    print(f\"Before function call: {my_list}\")\n",
    "    modify_list(my_list)\n",
    "    print(f\"After function call: {my_list}\")\n",
    "\n",
    "    print(\"\\n\" + \"=\"*40 + \"\\n\")\n",
    "\n",
    "    # Example with an immutable object (integer)\n",
    "    my_number = 42\n",
    "    print(f\"Before function call: {my_number}\")\n",
    "    modify_number(my_number)\n",
    "    print(f\"After function call: {my_number}\")\n",
    "    # Example with a mutable object (list)\n",
    "    my_list = [1, 2, 3]\n",
    "    print(f\"Before function call: {my_list}\")\n",
    "    modify_list(my_list)\n",
    "    print(f\"After function call: {my_list}\")\n",
    "    "
   ],
   "id": "2bb60ce22e33adf1",
   "outputs": [
    {
     "name": "stdout",
     "output_type": "stream",
     "text": [
      "Results\n",
      "-------\n",
      "Before function call: [1, 2, 3]\n",
      "Inside function, initially: [1, 2, 3]\n",
      "Inside function, after modification: [17, 2, 3, 4]\n",
      "After function call: [17, 2, 3, 4]\n",
      "\n",
      "========================================\n",
      "\n",
      "Before function call: 42\n",
      "Inside function, initially: 42\n",
      "Inside function, after modification: 43\n",
      "After function call: 42\n",
      "Before function call: [1, 2, 3]\n",
      "Inside function, initially: [1, 2, 3]\n",
      "Inside function, after modification: [17, 2, 3, 4]\n",
      "After function call: [17, 2, 3, 4]\n"
     ]
    }
   ],
   "execution_count": 35
  },
  {
   "metadata": {
    "ExecuteTime": {
     "end_time": "2024-10-13T11:35:18.534048Z",
     "start_time": "2024-10-13T11:35:18.530417Z"
    }
   },
   "cell_type": "code",
   "source": [
    "x= 1\n",
    "y = 2\n",
    "z = x,y, 7\n",
    "print(z)"
   ],
   "id": "79258254f41f71d7",
   "outputs": [
    {
     "name": "stdout",
     "output_type": "stream",
     "text": [
      "(1, 2, 7)\n"
     ]
    }
   ],
   "execution_count": 38
  },
  {
   "metadata": {
    "ExecuteTime": {
     "end_time": "2024-10-13T15:42:05.148116Z",
     "start_time": "2024-10-13T15:42:05.141745Z"
    }
   },
   "cell_type": "code",
   "source": [
    "print(\"Results\")\n",
    "print(\"-------\")\n",
    "# Without 'with' statement\n",
    "file = open('example.txt', 'w')\n",
    "file.write('Hello, World!')\n",
    "file.close()\n",
    "\n",
    "# With 'with' statement\n",
    "with open('example.txt', 'w') as file:\n",
    "    file.write('Hello, World!')\n",
    "\n",
    "with open(\"example.txt\",'r') as file:\n",
    "    print(file.read())"
   ],
   "id": "6c830c4ddd9cf27d",
   "outputs": [
    {
     "name": "stdout",
     "output_type": "stream",
     "text": [
      "Results\n",
      "-------\n",
      "Hello, World!\n"
     ]
    }
   ],
   "execution_count": 40
  },
  {
   "metadata": {
    "ExecuteTime": {
     "end_time": "2024-10-14T13:35:01.298842Z",
     "start_time": "2024-10-14T13:35:01.293825Z"
    }
   },
   "cell_type": "code",
   "source": [
    "class Dog:\n",
    "    def __init__(self, name, age, breed):\n",
    "        self.name = name\n",
    "        self.age = age\n",
    "        self.breed = breed\n",
    "    \n",
    "    def bark(self):\n",
    "        return f\"{self.name} says Woof!\"\n",
    "    \n",
    "    def birthday(self):\n",
    "        self.age += 1\n",
    "        return f\"{self.name} is now {self.age} years old.\"\n",
    "\n",
    "# Creating instances of the Dog class\n",
    "buddy = Dog(\"Buddy\", 3, \"Golden Retriever\")\n",
    "max = Dog(\"Max\", 5, \"Beagle\")\n",
    "\n",
    "# Using methods of the Dog class\n",
    "print(buddy.bark())\n",
    "print(max.birthday())\n",
    "print(f\"{max.name} is a {max.breed}.\")\n"
   ],
   "id": "c2826be6aac72f84",
   "outputs": [
    {
     "name": "stdout",
     "output_type": "stream",
     "text": [
      "Buddy says Woof!\n",
      "Max is now 6 years old.\n",
      "Max is a Beagle.\n"
     ]
    }
   ],
   "execution_count": 41
  },
  {
   "metadata": {
    "ExecuteTime": {
     "end_time": "2024-10-14T15:28:57.367559Z",
     "start_time": "2024-10-14T15:28:57.362296Z"
    }
   },
   "cell_type": "code",
   "source": [
    "class Car:\n",
    "    def __init__(self, make, model):\n",
    "        self.make = make\n",
    "        self.model = model\n",
    "        self.speed = 0\n",
    "\n",
    "    def accelerate(self, amount):\n",
    "        self.speed += amount\n",
    "        self.check_speed()\n",
    "\n",
    "    def check_speed(self):\n",
    "        if self.speed > 120:\n",
    "            print(f\"Warning: {self.make} {self.model} is exceeding speed limit!\")\n",
    "        else:\n",
    "            print(f\"Current speed of {self.make} {self.model}: {self.speed} km/h\")\n",
    "\n",
    "    def drive(self):\n",
    "        print(f\"Starting the {self.make} {self.model}\")\n",
    "        self.accelerate(50)\n",
    "        self.accelerate(30)\n",
    "        self.accelerate(60)\n",
    "\n",
    "if __name__ == \"__main__\":\n",
    "    # Create a car instance\n",
    "    my_car = Car(\"Toyota\", \"Corolla\")\n",
    "    \n",
    "    # Call the drive method\n",
    "    my_car.drive()\n",
    "    \n",
    "    # Manually accelerate to demonstrate exceeding speed limit\n",
    "    print(\"\\nAccelerating further:\")\n",
    "    my_car.accelerate(100)"
   ],
   "id": "d210e66f73f8f45c",
   "outputs": [
    {
     "name": "stdout",
     "output_type": "stream",
     "text": [
      "Starting the Toyota Corolla\n",
      "Current speed of Toyota Corolla: 50 km/h\n",
      "Current speed of Toyota Corolla: 80 km/h\n",
      "Warning: Toyota Corolla is exceeding speed limit!\n",
      "\n",
      "Accelerating further:\n",
      "Warning: Toyota Corolla is exceeding speed limit!\n"
     ]
    }
   ],
   "execution_count": 43
  },
  {
   "metadata": {
    "jupyter": {
     "is_executing": true
    },
    "ExecuteTime": {
     "start_time": "2024-10-16T19:31:32.016732Z"
    }
   },
   "cell_type": "code",
   "source": [
    "# write a pyqt6 application with a lineedit\n",
    "\n",
    "import sys\n",
    "from PyQt6.QtWidgets import QApplication, QWidget, QLineEdit\n",
    "\n",
    "class MyWidget(QWidget):\n",
    "    def __init__(self):\n",
    "        super().__init__()\n",
    "        self.setWindowTitle(\"PyQt6 Line Edit Example\")\n",
    "        self.setGeometry(100, 100, 400, 300)\n",
    "        self.line_edit = QLineEdit(self)\n",
    "        self.line_edit.setPlaceholderText(\"Enter text here\")\n",
    "        self.line_edit.setGeometry(50, 50, 200, 30)\n",
    "        # add a button\n",
    "        self.button = QPushButton('Click me', self)\n",
    "        self.button.setGeometry(50, 100, 200, 30)\n",
    "        self.button.clicked.connect(self.on_button_click)\n",
    "        \n",
    "    def on_button_click(self):\n",
    "        text = self.line_edit.text()\n",
    "        print(f\"Entered text: {text}\")\n",
    "        \n",
    "if __name__ == \"__main__\":\n",
    "    app = QApplication(sys.argv)\n",
    "    widget = MyWidget()\n",
    "    widget.show()\n",
    "    sys.exit(app.exec())\n",
    "    "
   ],
   "id": "80244d47c961906d",
   "outputs": [],
   "execution_count": null
  },
  {
   "metadata": {},
   "cell_type": "code",
   "outputs": [],
   "execution_count": null,
   "source": [
    "def example_function(required_param, default_param=\"default\", *args, **kwargs):\n",
    "    print(f\"Required parameter: {required_param}\")\n",
    "    print(f\"Default parameter: {default_param}\")\n",
    "    print(f\"Args: {args}\")\n",
    "    print(f\"Kwargs: {kwargs}\")\n",
    "\n",
    "# Basic usage\n",
    "print(\"Example 1:\")\n",
    "example_function(\"required\")\n",
    "\n",
    "# Overriding default parameter\n",
    "print(\"\\nExample 2:\")\n",
    "example_function(\"required\", \"custom\")\n",
    "\n",
    "# Using *args\n",
    "print(\"\\nExample 3:\")\n",
    "example_function(\"required\", \"custom\", 1, 2, 3)\n",
    "\n",
    "# Using default parameter and *args\n",
    "print(\"\\nExample 4:\")\n",
    "example_function(\"required\", 1, 2, 3)\n",
    "\n",
    "# Using all parameter types\n",
    "print(\"\\nExample 5:\")\n",
    "example_function(\"required\", \"custom\", 1, 2, 3, key1=\"value1\", key2=\"value2\")\n",
    "\n",
    "# Using keyword argument for default parameter\n",
    "print(\"\\nExample 6:\")\n",
    "example_function(\"required\", default_param=\"keyword\", 1, 2, 3)"
   ],
   "id": "12a255bc37240d8b"
  },
  {
   "metadata": {},
   "cell_type": "code",
   "outputs": [],
   "execution_count": null,
   "source": [
    "a=\"hello\"\n",
    "print (a)"
   ],
   "id": "fb8d8c86d8a295db"
  },
  {
   "metadata": {},
   "cell_type": "code",
   "outputs": [],
   "execution_count": null,
   "source": "a=(1,2,[3,4])",
   "id": "ae60c08cc695c44b"
  },
  {
   "metadata": {},
   "cell_type": "code",
   "outputs": [],
   "execution_count": null,
   "source": "",
   "id": "64187d09cbfd6dce"
  },
  {
   "metadata": {},
   "cell_type": "code",
   "outputs": [],
   "execution_count": null,
   "source": "",
   "id": "e677b6b927175354"
  },
  {
   "metadata": {},
   "cell_type": "code",
   "outputs": [],
   "execution_count": null,
   "source": "",
   "id": "65c53485f1574e3a"
  }
 ],
 "metadata": {
  "kernelspec": {
   "display_name": "Python 3",
   "language": "python",
   "name": "python3"
  },
  "language_info": {
   "codemirror_mode": {
    "name": "ipython",
    "version": 2
   },
   "file_extension": ".py",
   "mimetype": "text/x-python",
   "name": "python",
   "nbconvert_exporter": "python",
   "pygments_lexer": "ipython2",
   "version": "2.7.6"
  }
 },
 "nbformat": 4,
 "nbformat_minor": 5
}
